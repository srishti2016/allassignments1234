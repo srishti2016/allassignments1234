{
 "cells": [
  {
   "cell_type": "code",
   "execution_count": 2,
   "metadata": {},
   "outputs": [],
   "source": [
    "#1. In the below elements which of them are values or an expression? eg:- values can be\n",
    "#integer or string and expressions will be mathematical operators.\n",
    "#*\n",
    "#hello\n",
    "#-87.8\n",
    "#-\n",
    "#/\n",
    "#+\n",
    "#6"
   ]
  },
  {
   "cell_type": "code",
   "execution_count": 3,
   "metadata": {},
   "outputs": [],
   "source": [
    "#answer 1.\n",
    "\"hello\", -87.8, 6 are considered to be values. \n",
    "whereas *(astric), -, / , + are mathematical operators."
   ]
  },
  {
   "cell_type": "code",
   "execution_count": 4,
   "metadata": {},
   "outputs": [],
   "source": [
    "#2. What is the difference between string and variable?\n",
    "#ans:- \n",
    "string vs variable:\n",
    "1.Strings are arrays of bytes representing unicode characters, whereas variable is name which is given to memory location.\n",
    "2.A single character is simply a string with length of 1. Vraible can be single character or string which is used to assign\n",
    "  value to it.\n",
    "    for eg, abc = \"hello everyone\"\n",
    "    abc is a variable name and its value is \"hello everyone\" which is a string \n",
    "3.Strings can be written under single quote, double quote or triple quote as well. But variable is just a name and cannot\n",
    "  be written under any quotes.    \n",
    "4.Strings are not case-sesitive. On the other, Varibles are case sensitive.\n",
    "As shown in following example:-"
   ]
  },
  {
   "cell_type": "code",
   "execution_count": 8,
   "metadata": {},
   "outputs": [],
   "source": [
    "#for example\n",
    "abc =\"hello\"\n",
    "ABC =\"Hello Everyone\""
   ]
  },
  {
   "cell_type": "code",
   "execution_count": 9,
   "metadata": {},
   "outputs": [
    {
     "data": {
      "text/plain": [
       "'hello'"
      ]
     },
     "execution_count": 9,
     "metadata": {},
     "output_type": "execute_result"
    }
   ],
   "source": [
    "abc"
   ]
  },
  {
   "cell_type": "code",
   "execution_count": 10,
   "metadata": {},
   "outputs": [
    {
     "data": {
      "text/plain": [
       "'Hello Everyone'"
      ]
     },
     "execution_count": 10,
     "metadata": {},
     "output_type": "execute_result"
    }
   ],
   "source": [
    "ABC"
   ]
  },
  {
   "cell_type": "code",
   "execution_count": null,
   "metadata": {},
   "outputs": [],
   "source": [
    "5.Strings can be integer also. But variable cannot be integer as value cannot be assign to literal."
   ]
  },
  {
   "cell_type": "code",
   "execution_count": 11,
   "metadata": {},
   "outputs": [
    {
     "ename": "SyntaxError",
     "evalue": "can't assign to literal (<ipython-input-11-6036759ad52f>, line 1)",
     "output_type": "error",
     "traceback": [
      "\u001b[1;36m  File \u001b[1;32m\"<ipython-input-11-6036759ad52f>\"\u001b[1;36m, line \u001b[1;32m1\u001b[0m\n\u001b[1;33m    124= \"hello\"\u001b[0m\n\u001b[1;37m                ^\u001b[0m\n\u001b[1;31mSyntaxError\u001b[0m\u001b[1;31m:\u001b[0m can't assign to literal\n"
     ]
    }
   ],
   "source": [
    "124= \"hello\""
   ]
  },
  {
   "cell_type": "code",
   "execution_count": null,
   "metadata": {},
   "outputs": [],
   "source": [
    "7.Vriables can strore any data type. But any data type written in quotes will considered to be string\n",
    "  myval = 78.9\n",
    "    myval = \"78.9\"  "
   ]
  },
  {
   "cell_type": "code",
   "execution_count": null,
   "metadata": {},
   "outputs": [],
   "source": []
  },
  {
   "cell_type": "code",
   "execution_count": null,
   "metadata": {},
   "outputs": [],
   "source": [
    "#3.Describe three different data types.\n",
    "ans:-\n",
    "Standard data types of python are:- \n",
    "1.Numeric -1. integer\n",
    "           2. float\n",
    "           3. complex\n",
    "        \n",
    "2.Sequence Type -1.list \n",
    "                 2.tupple\n",
    "                 3.string\n",
    "        \n",
    "3.Boolean\n",
    "4.Set\n",
    "5.Dictionary\n",
    "\n",
    "1.Numeric- It represents numeric values.Numeric values can be integer,float and complex number which can be defined as int,\n",
    "float and complex.\n",
    "Integers – This value is represented by int class. It contains positive or negative whole numbers (without fraction \n",
    "           or decimal). In Python there is no limit to how long an integer value can be.\n",
    "\n",
    "Float – This value is represented by float class. It is a real number with floating point representation. It is \n",
    "        specified by a decimal point. Optionally, the character e or E followed by a positive or negative integer\n",
    "        may be appended to specify scientific notation.\n",
    "        \n",
    "Complex Numbers – Complex number is represented by complex class. It is specified as (real part) + (imaginary\n",
    "                  part)j. For example – 2+3j.\n",
    "for example:\n"
   ]
  },
  {
   "cell_type": "code",
   "execution_count": 13,
   "metadata": {},
   "outputs": [
    {
     "name": "stdout",
     "output_type": "stream",
     "text": [
      "Type of a:  <class 'int'>\n",
      "\n",
      "Type of b:  <class 'float'>\n",
      "\n",
      "Type of c:  <class 'complex'>\n"
     ]
    }
   ],
   "source": [
    "a,b,c = 5, 5.0, 2 + 4j\n",
    "print(\"Type of a: \", type(a))\n",
    "print(\"\\nType of b: \", type(b))\n",
    "print(\"\\nType of c: \", type(c))"
   ]
  },
  {
   "cell_type": "code",
   "execution_count": null,
   "metadata": {},
   "outputs": [],
   "source": [
    "2.Set:-\n",
    "    In Python, Set is an unordered collection of data type that is iterable, mutable and has no duplicate elements.\n",
    "    The order of elements in a set is undefined though it may consist of various elements.\n",
    "    Set elements are placed under curly braces {}."
   ]
  },
  {
   "cell_type": "code",
   "execution_count": 14,
   "metadata": {},
   "outputs": [],
   "source": [
    "s1 = {2,3,4,5,6,7,5,4,6,7}"
   ]
  },
  {
   "cell_type": "code",
   "execution_count": 15,
   "metadata": {},
   "outputs": [
    {
     "data": {
      "text/plain": [
       "{2, 3, 4, 5, 6, 7}"
      ]
     },
     "execution_count": 15,
     "metadata": {},
     "output_type": "execute_result"
    }
   ],
   "source": [
    "s1"
   ]
  },
  {
   "cell_type": "code",
   "execution_count": null,
   "metadata": {},
   "outputs": [],
   "source": [
    "As shown above, set includes only unique values.\n",
    "Sets can be created by using the built-in set() function."
   ]
  },
  {
   "cell_type": "code",
   "execution_count": 16,
   "metadata": {},
   "outputs": [
    {
     "name": "stdout",
     "output_type": "stream",
     "text": [
      "{'a1', 'a2', 'a3'}\n"
     ]
    }
   ],
   "source": [
    "s2 = set([\"a1\",\"a2\",\"a3\"])\n",
    "print(s2)"
   ]
  },
  {
   "cell_type": "code",
   "execution_count": null,
   "metadata": {},
   "outputs": [],
   "source": [
    "3. Dictionary:-\n",
    "     1.It stored data with key:pair.Each value is paired with unique key.\n",
    "     2.Values in dictionary can be duplicate and of any data type.But key name cannot be duplicate.\n",
    "     3.key value in dictionary make it more optimized.\n",
    "     4.It is also be in curly braces.\n",
    "     5.keys and values are separated by colons."
   ]
  },
  {
   "cell_type": "code",
   "execution_count": 17,
   "metadata": {},
   "outputs": [
    {
     "data": {
      "text/plain": [
       "dict"
      ]
     },
     "execution_count": 17,
     "metadata": {},
     "output_type": "execute_result"
    }
   ],
   "source": [
    "d1 ={\"name\":\"srishti\",\"course\":\"data science\",\"duration\":\"9months\"}\n",
    "type(d1)"
   ]
  },
  {
   "cell_type": "code",
   "execution_count": null,
   "metadata": {},
   "outputs": [],
   "source": [
    "#What is an expression made up of? What do all expressions do?"
   ]
  },
  {
   "cell_type": "code",
   "execution_count": null,
   "metadata": {},
   "outputs": [],
   "source": [
    "#ans:-\n",
    "1.An expression is made up of variables,operators and method invocation.\n",
    "2.These are combined to produce other value. An expressionsdoes the operation according to the the operator prececedence order.\n",
    "3.Simply, expression includes operator and operands both together.\n",
    "In laymens words, expression is a kind of task to do as per the the order of operators."
   ]
  },
  {
   "cell_type": "code",
   "execution_count": 18,
   "metadata": {},
   "outputs": [
    {
     "name": "stdout",
     "output_type": "stream",
     "text": [
      "10.3\n"
     ]
    }
   ],
   "source": [
    "a = 3+4+5.6-2.3*1           #3+4+5.6-2.3*1 are arithmatic expression\n",
    "print(a)"
   ]
  },
  {
   "cell_type": "code",
   "execution_count": null,
   "metadata": {},
   "outputs": [],
   "source": [
    "4.Expresions can be of many types.\n",
    "    -logical expression - These are kinds of expressions that result in either True or False. It basically specifies one or\n",
    "                        more conditions.\n",
    "        \n",
    "    -constant expression - These are the expressions that have constant values only.\n",
    "    \n",
    "    -arithmatic expression - An arithmetic expression is a combination of numeric values, operators, and sometimes parenthesis.\n",
    "                             The result of this type of expression is also a numeric value. The operators used in these\n",
    "                             expressions are arithmetic operators like addition, subtraction, etc.\n",
    "    \n",
    "    -relational epression - are written on both sides of relational operator (> , < , >= , <=). Those arithmetic expressions\n",
    "                            are evaluated first, and then compared as per relational operator and produce a boolean output\n",
    "                            in the end.\n",
    "            \n",
    "    -floating expression - which produce floating point numbers as result after all computations and type conversions."
   ]
  },
  {
   "cell_type": "code",
   "execution_count": 23,
   "metadata": {},
   "outputs": [
    {
     "name": "stdout",
     "output_type": "stream",
     "text": [
      "hello\n",
      "1.3\n",
      "False\n"
     ]
    }
   ],
   "source": [
    "a,b = 20, 30 \n",
    "if (a>b) or (b>a):    #logical expression\n",
    "    print(\"hello\")\n",
    "    \n",
    "c = 2.6 \n",
    "d= 2\n",
    "e = c/d            #floating expression\n",
    "print(e)\n",
    "\n",
    "tot = (a+b) >= (a*b) #relational expression\n",
    "print(tot)"
   ]
  },
  {
   "cell_type": "code",
   "execution_count": null,
   "metadata": {},
   "outputs": [],
   "source": [
    "#5. This assignment statements, like spam = 10. What is the difference between an expression and a statement?\n",
    "ans:- Statement can be anything written in python.in above mentioned statement means, spam is variable and 10 is value \n",
    "      assigned to it. \n",
    "        - Expression contains both operators and operands which perform task and reduced to some value out of it. On other\n",
    "           side,Statement is an instruction which python interpreter executes. if, while are statements.\n",
    "             - statement can be of several lines whereas expression can be arithmatic,logical,floating,relational or boolean."
   ]
  },
  {
   "cell_type": "code",
   "execution_count": 31,
   "metadata": {},
   "outputs": [
    {
     "name": "stdout",
     "output_type": "stream",
     "text": [
      "14\n"
     ]
    }
   ],
   "source": [
    "#for eg:\n",
    "if (10>4): # if is a statement\n",
    "    a = 10+4   # expression which reduced to some particlur value\n",
    "    print(a)\n",
    "else:\n",
    "    a = 10-a\n",
    "    print(a)"
   ]
  },
  {
   "cell_type": "code",
   "execution_count": 32,
   "metadata": {},
   "outputs": [
    {
     "data": {
      "text/plain": [
       "23"
      ]
     },
     "execution_count": 32,
     "metadata": {},
     "output_type": "execute_result"
    }
   ],
   "source": [
    "#6. After running the following code, what does the variable bacon contain?\n",
    "bacon = 22\n",
    "bacon + 1"
   ]
  },
  {
   "cell_type": "code",
   "execution_count": null,
   "metadata": {},
   "outputs": [],
   "source": [
    "Ans:- bacon contain 23\n",
    "    22+1 = 23"
   ]
  },
  {
   "cell_type": "code",
   "execution_count": 33,
   "metadata": {},
   "outputs": [],
   "source": [
    "#7. What should the values of the following two terms be?\n",
    "#'spam' + 'spamspam'\n",
    "#'spam' *3"
   ]
  },
  {
   "cell_type": "code",
   "execution_count": 34,
   "metadata": {},
   "outputs": [
    {
     "data": {
      "text/plain": [
       "'spamspamspam'"
      ]
     },
     "execution_count": 34,
     "metadata": {},
     "output_type": "execute_result"
    }
   ],
   "source": [
    "Ans:-\n",
    "this concatenate both the strings\n",
    "\n",
    "\"spam\" + \"spamspam\""
   ]
  },
  {
   "cell_type": "code",
   "execution_count": 35,
   "metadata": {},
   "outputs": [
    {
     "data": {
      "text/plain": [
       "'spamspamspam'"
      ]
     },
     "execution_count": 35,
     "metadata": {},
     "output_type": "execute_result"
    }
   ],
   "source": [
    "this will also concatenate the string by three times.\n",
    "\"spam\" *3"
   ]
  },
  {
   "cell_type": "code",
   "execution_count": 36,
   "metadata": {},
   "outputs": [],
   "source": [
    "#8. Why is eggs a valid variable name while 100 is invalid?"
   ]
  },
  {
   "cell_type": "code",
   "execution_count": 38,
   "metadata": {},
   "outputs": [],
   "source": [
    "Ans:- Because variable cannot be integer as value cannot be assign to literal."
   ]
  },
  {
   "cell_type": "code",
   "execution_count": 39,
   "metadata": {},
   "outputs": [],
   "source": [
    "#9. What three functions can be used to get the integer, floating-point number, or string version of a value?"
   ]
  },
  {
   "cell_type": "code",
   "execution_count": 43,
   "metadata": {},
   "outputs": [
    {
     "data": {
      "text/plain": [
       "'20'"
      ]
     },
     "execution_count": 43,
     "metadata": {},
     "output_type": "execute_result"
    }
   ],
   "source": [
    "#Ans:=\n",
    "a = 20\n",
    "str(a)"
   ]
  },
  {
   "cell_type": "code",
   "execution_count": 44,
   "metadata": {},
   "outputs": [
    {
     "data": {
      "text/plain": [
       "20.0"
      ]
     },
     "execution_count": 44,
     "metadata": {},
     "output_type": "execute_result"
    }
   ],
   "source": [
    "float(a)"
   ]
  },
  {
   "cell_type": "code",
   "execution_count": 45,
   "metadata": {},
   "outputs": [
    {
     "data": {
      "text/plain": [
       "20"
      ]
     },
     "execution_count": 45,
     "metadata": {},
     "output_type": "execute_result"
    }
   ],
   "source": [
    "int(a)"
   ]
  },
  {
   "cell_type": "code",
   "execution_count": 46,
   "metadata": {},
   "outputs": [],
   "source": [
    "#10. Why does this expression cause an error? How can you fix it?\n",
    "#'I have eaten' + 99 + 'burritos'"
   ]
  },
  {
   "cell_type": "code",
   "execution_count": 49,
   "metadata": {},
   "outputs": [
    {
     "data": {
      "text/plain": [
       "'I have eaten 99 burritos'"
      ]
     },
     "execution_count": 49,
     "metadata": {},
     "output_type": "execute_result"
    }
   ],
   "source": [
    "#Ans:-\n",
    "\"I have eaten\" + \" 99\" + \" burritos\"  "
   ]
  },
  {
   "cell_type": "code",
   "execution_count": null,
   "metadata": {},
   "outputs": [],
   "source": []
  }
 ],
 "metadata": {
  "kernelspec": {
   "display_name": "Python 3",
   "language": "python",
   "name": "python3"
  },
  "language_info": {
   "codemirror_mode": {
    "name": "ipython",
    "version": 3
   },
   "file_extension": ".py",
   "mimetype": "text/x-python",
   "name": "python",
   "nbconvert_exporter": "python",
   "pygments_lexer": "ipython3",
   "version": "3.7.6"
  }
 },
 "nbformat": 4,
 "nbformat_minor": 4
}
